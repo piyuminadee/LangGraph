{
  "nbformat": 4,
  "nbformat_minor": 0,
  "metadata": {
    "colab": {
      "provenance": [],
      "authorship_tag": "ABX9TyOudLm4yN2PruFhzzEVksKK",
      "include_colab_link": true
    },
    "kernelspec": {
      "name": "python3",
      "display_name": "Python 3"
    },
    "language_info": {
      "name": "python"
    }
  },
  "cells": [
    {
      "cell_type": "markdown",
      "metadata": {
        "id": "view-in-github",
        "colab_type": "text"
      },
      "source": [
        "<a href=\"https://colab.research.google.com/github/piyuminadee/LangGraph/blob/main/LangGraph_stage1.ipynb\" target=\"_parent\"><img src=\"https://colab.research.google.com/assets/colab-badge.svg\" alt=\"Open In Colab\"/></a>"
      ]
    },
    {
      "cell_type": "code",
      "execution_count": 1,
      "metadata": {
        "colab": {
          "base_uri": "https://localhost:8080/"
        },
        "id": "l-Iqw2UtaOV-",
        "outputId": "43da353c-6ff2-42dc-8b33-37d301b70ab4"
      },
      "outputs": [
        {
          "output_type": "stream",
          "name": "stdout",
          "text": [
            "\u001b[2K     \u001b[90m━━━━━━━━━━━━━━━━━━━━━━━━━━━━━━━━━━━━━━━━\u001b[0m \u001b[32m43.7/43.7 kB\u001b[0m \u001b[31m2.1 MB/s\u001b[0m eta \u001b[36m0:00:00\u001b[0m\n",
            "\u001b[2K   \u001b[90m━━━━━━━━━━━━━━━━━━━━━━━━━━━━━━━━━━━━━━━━\u001b[0m \u001b[32m153.3/153.3 kB\u001b[0m \u001b[31m4.9 MB/s\u001b[0m eta \u001b[36m0:00:00\u001b[0m\n",
            "\u001b[2K   \u001b[90m━━━━━━━━━━━━━━━━━━━━━━━━━━━━━━━━━━━━━━━━\u001b[0m \u001b[32m43.9/43.9 kB\u001b[0m \u001b[31m3.0 MB/s\u001b[0m eta \u001b[36m0:00:00\u001b[0m\n",
            "\u001b[2K   \u001b[90m━━━━━━━━━━━━━━━━━━━━━━━━━━━━━━━━━━━━━━━━\u001b[0m \u001b[32m56.1/56.1 kB\u001b[0m \u001b[31m3.5 MB/s\u001b[0m eta \u001b[36m0:00:00\u001b[0m\n",
            "\u001b[2K   \u001b[90m━━━━━━━━━━━━━━━━━━━━━━━━━━━━━━━━━━━━━━━━\u001b[0m \u001b[32m216.7/216.7 kB\u001b[0m \u001b[31m6.7 MB/s\u001b[0m eta \u001b[36m0:00:00\u001b[0m\n",
            "\u001b[?25h"
          ]
        }
      ],
      "source": [
        "!pip install langgraph -q"
      ]
    },
    {
      "cell_type": "markdown",
      "source": [
        "Simple Graph"
      ],
      "metadata": {
        "id": "6GLTRTk6ab_t"
      }
    },
    {
      "cell_type": "code",
      "source": [
        "from typing import TypedDict"
      ],
      "metadata": {
        "id": "ent_79csaXCb"
      },
      "execution_count": 2,
      "outputs": []
    },
    {
      "cell_type": "code",
      "source": [
        "# class AgentState(TypedDict):\n",
        "#   name : str\n",
        "#   age : int\n",
        "#   message : str"
      ],
      "metadata": {
        "id": "oL7AvmjBa3Cj"
      },
      "execution_count": null,
      "outputs": []
    },
    {
      "cell_type": "code",
      "source": [
        "# def hello_age(state : AgentState) -> AgentState:\n",
        "#   state['message'] = f\"{state['message']}, You are {state['age']} years old\"\n",
        "#   return state"
      ],
      "metadata": {
        "id": "O1E3gX_0JTWp"
      },
      "execution_count": null,
      "outputs": []
    },
    {
      "cell_type": "code",
      "source": [
        "# def hello_name(state : AgentState) -> AgentState:\n",
        "#   state['message'] = f\"Hello {state['name']}\"\n",
        "#   return state"
      ],
      "metadata": {
        "id": "GxxXnUnya-A8"
      },
      "execution_count": null,
      "outputs": []
    },
    {
      "cell_type": "code",
      "source": [
        "from langgraph.graph import StateGraph, START, END"
      ],
      "metadata": {
        "id": "KyANUfkBbdUT"
      },
      "execution_count": 3,
      "outputs": []
    },
    {
      "cell_type": "code",
      "source": [
        "# workflow = StateGraph(AgentState)\n",
        "# workflow.add_node(\"hello_name\", hello_name)\n",
        "# workflow.add_node(\"hello_age\", hello_age)\n",
        "# workflow.add_edge(START, \"hello_name\")\n",
        "# workflow.add_edge(\"hello_name\", \"hello_age\")\n",
        "# workflow.add_edge(\"hello_age\", END)\n",
        "# app = workflow.compile()"
      ],
      "metadata": {
        "id": "noo3jiFUb2sB"
      },
      "execution_count": null,
      "outputs": []
    },
    {
      "cell_type": "code",
      "source": [
        "# from IPython.display import Image, display\n",
        "# display(Image(app.get_graph().draw_mermaid_png()))"
      ],
      "metadata": {
        "colab": {
          "base_uri": "https://localhost:8080/",
          "height": 350
        },
        "id": "CG_gz_AagLQk",
        "outputId": "4261c71f-717d-425e-ef1b-72ede4b7db44"
      },
      "execution_count": null,
      "outputs": [
        {
          "output_type": "display_data",
          "data": {
            "image/png": "[encoded data removed]",
            "text/plain": [
              "<IPython.core.display.Image object>"
            ]
          },
          "metadata": {}
        }
      ]
    },
    {
      "cell_type": "code",
      "source": [
        "result = app.invoke({\"name\":\"kamal\", \"age\":25})\n",
        "print(result['message'])"
      ],
      "metadata": {
        "colab": {
          "base_uri": "https://localhost:8080/"
        },
        "id": "QSjqZ6GrgKyJ",
        "outputId": "8a9928ba-2d0a-45a3-84b8-0a93332b29e0"
      },
      "execution_count": null,
      "outputs": [
        {
          "output_type": "stream",
          "name": "stdout",
          "text": [
            "(25, 'kamal')\n"
          ]
        }
      ]
    },
    {
      "cell_type": "code",
      "source": [
        "class AgentState(TypedDict):\n",
        "  num1 : int\n",
        "  num2 : int\n",
        "  operation : str\n",
        "  result : int"
      ],
      "metadata": {
        "id": "X5novGhEg7PD"
      },
      "execution_count": 4,
      "outputs": []
    },
    {
      "cell_type": "code",
      "source": [
        "from os import stat\n",
        "def addition(state:AgentState) -> AgentState:\n",
        "  state[\"result\"] = state[\"num1\"] + state[\"num2\"]\n",
        "  return state\n"
      ],
      "metadata": {
        "id": "DkB6M-EOK-wT"
      },
      "execution_count": 5,
      "outputs": []
    },
    {
      "cell_type": "code",
      "source": [
        "def subtraction(state:AgentState) -> AgentState:\n",
        "  state[\"result\"] = state[\"num1\"] - state[\"num2\"]\n",
        "  return state"
      ],
      "metadata": {
        "id": "8OAUV2VpLUKR"
      },
      "execution_count": 6,
      "outputs": []
    },
    {
      "cell_type": "code",
      "source": [
        "def multiplication(state:AgentState) -> AgentState:\n",
        "  state[\"result\"] = state[\"num1\"] * state[\"num2\"]\n",
        "  return state"
      ],
      "metadata": {
        "id": "4CoPP_uDLcJh"
      },
      "execution_count": 7,
      "outputs": []
    },
    {
      "cell_type": "code",
      "source": [
        "def division(state:AgentState) -> AgentState:\n",
        "  state[\"result\"] = state[\"num1\"] / state[\"num2\"]\n",
        "  return state"
      ],
      "metadata": {
        "id": "hcgY9iXsLgKd"
      },
      "execution_count": 8,
      "outputs": []
    },
    {
      "cell_type": "code",
      "source": [
        "def decision_node(state:AgentState) -> AgentState:\n",
        "  if state[\"operation\"] == \"+\":\n",
        "    return \"addition_operation\"\n",
        "  elif state[\"operation\"] == \"-\":\n",
        "    return \"subtraction_operation\"\n",
        "  elif state[\"operation\"] == \"*\":\n",
        "    return \"multiplication_operation\"\n",
        "  elif state[\"operation\"] == \"/\":\n",
        "    return \"division_operation\""
      ],
      "metadata": {
        "id": "uNDkvrl7Liqo"
      },
      "execution_count": 9,
      "outputs": []
    },
    {
      "cell_type": "code",
      "source": [
        "workflow = StateGraph(AgentState)\n",
        "workflow.add_node(\"addition\", addition)\n",
        "workflow.add_node(\"subtraction\", subtraction)\n",
        "workflow.add_node(\"multiplication\", multiplication)\n",
        "workflow.add_node(\"division\", division)\n",
        "workflow.add_node(\"router\", lambda state:state)\n",
        "\n",
        "workflow.add_edge(START, \"router\")\n",
        "workflow.add_conditional_edges(\"router\",\n",
        "                               decision_node,\n",
        "                               {\n",
        "                                   \"addition_operation\":\"addition\",\n",
        "                                   \"subtraction_operation\": \"subtraction\",\n",
        "                                   \"multiplication_operation\":\"multiplication\",\n",
        "                                   \"division_operation\": \"division\"\n",
        "                               })\n",
        "workflow.add_edge(\"addition\", END)\n",
        "workflow.add_edge(\"subtraction\", END)\n",
        "workflow.add_edge(\"multiplication\", END)\n",
        "workflow.add_edge(\"division\", END)\n",
        "app = workflow.compile()"
      ],
      "metadata": {
        "id": "m7TWuShUMc1l"
      },
      "execution_count": 13,
      "outputs": []
    },
    {
      "cell_type": "code",
      "source": [
        "from IPython.display import Image, display\n",
        "display(Image(app.get_graph().draw_mermaid_png()))"
      ],
      "metadata": {
        "id": "msfro_SzteEH",
        "colab": {
          "base_uri": "https://localhost:8080/",
          "height": 374
        },
        "outputId": "55308b05-eb13-4d6b-9b97-0567b35d479b"
      },
      "execution_count": 14,
      "outputs": [
        {
          "output_type": "display_data",
          "data": {
            "image/png": "[encoded data removed]",
            "text/plain": [
              "<IPython.core.display.Image object>"
            ]
          },
          "metadata": {}
        }
      ]
    },
    {
      "cell_type": "code",
      "source": [],
      "metadata": {
        "id": "3owIWL6SPJRW"
      },
      "execution_count": null,
      "outputs": []
    }
  ]
}